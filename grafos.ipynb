{
 "cells": [
  {
   "cell_type": "code",
   "execution_count": 14,
   "metadata": {},
   "outputs": [],
   "source": [
    "def dfs(graph, start, order):\n",
    "    stack = [start]\n",
    "    visited = set()\n",
    "    while stack:\n",
    "        node = stack.pop()\n",
    "        visited.add(node)\n",
    "        print(\"Visited node:\", node)\n",
    "        if order == \"desc\":\n",
    "            neighbors = sorted(graph[node])\n",
    "        elif order == \"asc\":\n",
    "            neighbors = sorted(graph[node], reverse=True)\n",
    "        for neighbor in neighbors:\n",
    "            if neighbor not in visited:\n",
    "                stack.append(neighbor)\n"
   ]
  },
  {
   "cell_type": "code",
   "execution_count": 15,
   "metadata": {},
   "outputs": [],
   "source": [
    "graph = {'A': ['B'], 'B': ['C', 'D', 'L'], 'C': ['F', 'J', 'M'], 'D': ['K', 'O'],'F': [] ,'J': ['R'] ,'K': [] ,'L': [],'M': [] ,'N': ['Q'], 'O': ['N', 'P'], 'P': ['Z'],'Q': [] ,'R':[],'Z': [] }\n",
    "start_node = 'A'"
   ]
  },
  {
   "cell_type": "code",
   "execution_count": 16,
   "metadata": {},
   "outputs": [
    {
     "name": "stdout",
     "output_type": "stream",
     "text": [
      "DFS in alphabetical order:\n",
      "Visited node: A\n",
      "Visited node: B\n",
      "Visited node: C\n",
      "Visited node: F\n",
      "Visited node: J\n",
      "Visited node: R\n",
      "Visited node: M\n",
      "Visited node: D\n",
      "Visited node: K\n",
      "Visited node: O\n",
      "Visited node: N\n",
      "Visited node: Q\n",
      "Visited node: P\n",
      "Visited node: Z\n",
      "Visited node: L\n"
     ]
    }
   ],
   "source": [
    "print(\"DFS in alphabetical order:\")\n",
    "visited = set()\n",
    "dfs(graph, start_node, \"asc\")"
   ]
  },
  {
   "cell_type": "code",
   "execution_count": 17,
   "metadata": {},
   "outputs": [
    {
     "name": "stdout",
     "output_type": "stream",
     "text": [
      "\n",
      "DFS in reverse alphabetical order:\n",
      "Visited node: A\n",
      "Visited node: B\n",
      "Visited node: L\n",
      "Visited node: D\n",
      "Visited node: O\n",
      "Visited node: P\n",
      "Visited node: Z\n",
      "Visited node: N\n",
      "Visited node: Q\n",
      "Visited node: K\n",
      "Visited node: C\n",
      "Visited node: M\n",
      "Visited node: J\n",
      "Visited node: R\n",
      "Visited node: F\n"
     ]
    }
   ],
   "source": [
    "print(\"\\nDFS in reverse alphabetical order:\")\n",
    "visited = set()\n",
    "dfs(graph, start_node, \"desc\")"
   ]
  }
 ],
 "metadata": {
  "kernelspec": {
   "display_name": "Python 3",
   "language": "python",
   "name": "python3"
  },
  "language_info": {
   "codemirror_mode": {
    "name": "ipython",
    "version": 3
   },
   "file_extension": ".py",
   "mimetype": "text/x-python",
   "name": "python",
   "nbconvert_exporter": "python",
   "pygments_lexer": "ipython3",
   "version": "3.10.10"
  },
  "orig_nbformat": 4,
  "vscode": {
   "interpreter": {
    "hash": "943bcba0af31a0a9d9a21b4d22d486bd90fd337d532887d4cde7a9c5462465f1"
   }
  }
 },
 "nbformat": 4,
 "nbformat_minor": 2
}
