{
 "cells": [
  {
   "attachments": {},
   "cell_type": "markdown",
   "metadata": {},
   "source": [
    "## Food 11 Dataset"
   ]
  },
  {
   "cell_type": "code",
   "execution_count": 26,
   "metadata": {},
   "outputs": [
    {
     "name": "stdout",
     "output_type": "stream",
     "text": [
      "Number of evaluation images: 3347\n",
      "Number of training images: 9860\n",
      "Number of validation images: 3430\n"
     ]
    }
   ],
   "source": [
    "import os\n",
    "import glob\n",
    "import cv2\n",
    "\n",
    "# Define the paths to the folders containing the images\n",
    "eval_path = os.path.abspath('C:/Users/wdmoreno/OneDrive - Asesoftware S.A.S/Documentos/Food_data/evaluation')\n",
    "train_path = os.path.abspath('C:/Users/wdmoreno/OneDrive - Asesoftware S.A.S/Documentos/Food_data/training')\n",
    "val_path = os.path.abspath('C:/Users/wdmoreno/OneDrive - Asesoftware S.A.S/Documentos/Food_data/validation')\n",
    "\n",
    "# Define a list of folder names\n",
    "folders = ['Bread', 'Dairy product', 'Dessert', 'Egg', 'Fried food', 'Meat', 'Noodles-Pasta', 'Rice', 'Seafood', 'Soup', 'Vegetable-Fruit']\n",
    "\n",
    "# Initialize arrays to store images from each directory\n",
    "eval_images = []\n",
    "train_images = []\n",
    "val_images = []\n",
    "\n",
    "# Loop over the folders\n",
    "for folder in folders:\n",
    "    # Read images from evaluation directory\n",
    "    eval_folder = os.path.join(eval_path, folder)\n",
    "    eval_images.extend([cv2.imread(img_path) for img_path in glob.glob(os.path.join(eval_folder, '*.jpg'))])\n",
    "    \n",
    "    # Read images from training directory\n",
    "    train_folder = os.path.join(train_path, folder)\n",
    "    train_images.extend([cv2.imread(img_path) for img_path in glob.glob(os.path.join(train_folder, '*.jpg'))])\n",
    "    \n",
    "    # Read images from validation directory\n",
    "    val_folder = os.path.join(val_path, folder)\n",
    "    val_images.extend([cv2.imread(img_path) for img_path in glob.glob(os.path.join(val_folder, '*.jpg'))])\n",
    "\n",
    "# Print the number of images in each directory\n",
    "print(f'Number of evaluation images: {len(eval_images)}')\n",
    "print(f'Number of training images: {len(train_images)}')\n",
    "print(f'Number of validation images: {len(val_images)}')\n",
    "\n"
   ]
  },
  {
   "attachments": {},
   "cell_type": "markdown",
   "metadata": {},
   "source": [
    "Analyze the data"
   ]
  }
 ],
 "metadata": {
  "kernelspec": {
   "display_name": "proba",
   "language": "python",
   "name": "python3"
  },
  "language_info": {
   "codemirror_mode": {
    "name": "ipython",
    "version": 3
   },
   "file_extension": ".py",
   "mimetype": "text/x-python",
   "name": "python",
   "nbconvert_exporter": "python",
   "pygments_lexer": "ipython3",
   "version": "3.9.16"
  },
  "orig_nbformat": 4,
  "vscode": {
   "interpreter": {
    "hash": "2dff9fdaf7b94c5adc137ae9efacb6eb17db3d464d727aaf2eb000ed4ad138c2"
   }
  }
 },
 "nbformat": 4,
 "nbformat_minor": 2
}
