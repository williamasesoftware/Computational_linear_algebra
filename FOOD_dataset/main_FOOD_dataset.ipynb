{
 "cells": [
  {
   "attachments": {},
   "cell_type": "markdown",
   "metadata": {},
   "source": [
    "## Food 11 Dataset"
   ]
  },
  {
   "cell_type": "code",
   "execution_count": 24,
   "metadata": {},
   "outputs": [
    {
     "name": "stdout",
     "output_type": "stream",
     "text": [
      "Bread: 368 images\n",
      "Dairy product: 148 images\n",
      "Dessert: 500 images\n",
      "Egg: 335 images\n",
      "Fried food: 287 images\n",
      "Meat: 432 images\n",
      "Noodles-Pasta: 147 images\n",
      "Rice: 96 images\n",
      "Seafood: 303 images\n",
      "Soup: 500 images\n",
      "Vegetable-Fruit: 231 images\n"
     ]
    }
   ],
   "source": [
    "# Read data from dataset\n",
    "\n",
    "import os\n",
    "import glob\n",
    "\n",
    "# Define the paths to the folders containing the images\n",
    "eval_path = os.path.abspath('C:/Users/wdmoreno/OneDrive - Asesoftware S.A.S/Documentos/Food_data/evaluation')\n",
    "train_path = os.path.abspath('C:/Users/wdmoreno/OneDrive - Asesoftware S.A.S/Documentos/Food_data/training')\n",
    "val_path = os.path.abspath('C:/Users/wdmoreno/OneDrive - Asesoftware S.A.S/Documentos/Food_data/validation')\n",
    "\n",
    "# Define a list of folder names\n",
    "folders = ['Bread', 'Dairy product', 'Dessert', 'Egg', 'Fried food', 'Meat', 'Noodles-Pasta', 'Rice', 'Seafood', 'Soup', 'Vegetable-Fruit']\n",
    "\n",
    "# Loop over the folders\n",
    "for folder in folders:\n",
    "    # Define the path to the folder\n",
    "    folder_path = os.path.join(eval_path, folder)\n",
    "   \n",
    "    # Use glob to find all .jpg files in the folder\n",
    "    images = glob.glob(os.path.join(folder_path, '*.jpg'))\n",
    "    \n",
    "    # Print the number of images in the folder\n",
    "    print(f'{folder}: {len(images)} images')"
   ]
  }
 ],
 "metadata": {
  "kernelspec": {
   "display_name": "proba",
   "language": "python",
   "name": "python3"
  },
  "language_info": {
   "codemirror_mode": {
    "name": "ipython",
    "version": 3
   },
   "file_extension": ".py",
   "mimetype": "text/x-python",
   "name": "python",
   "nbconvert_exporter": "python",
   "pygments_lexer": "ipython3",
   "version": "3.9.16"
  },
  "orig_nbformat": 4,
  "vscode": {
   "interpreter": {
    "hash": "2dff9fdaf7b94c5adc137ae9efacb6eb17db3d464d727aaf2eb000ed4ad138c2"
   }
  }
 },
 "nbformat": 4,
 "nbformat_minor": 2
}
