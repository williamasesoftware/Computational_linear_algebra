{
 "cells": [
  {
   "cell_type": "code",
   "execution_count": 12,
   "metadata": {},
   "outputs": [
    {
     "name": "stdout",
     "output_type": "stream",
     "text": [
      "(1382976,)\n",
      "[-4.328125 -4.328125 -4.328125 ... -4.328125 -4.328125 -4.328125]\n"
     ]
    },
    {
     "name": "stderr",
     "output_type": "stream",
     "text": [
      "C:\\Users\\wdmoreno\\AppData\\Local\\Temp\\ipykernel_21592\\1805529118.py:25: RuntimeWarning: overflow encountered in short_scalars\n",
      "  interval_size = (max_amp - min_amp) / num_levels\n"
     ]
    },
    {
     "data": {
      "text/plain": [
       "<_io.BufferedRandom name='audio_cuantificado.mp3'>"
      ]
     },
     "execution_count": 12,
     "metadata": {},
     "output_type": "execute_result"
    }
   ],
   "source": [
    "from pydub import AudioSegment\n",
    "from scipy.io import wavfile\n",
    "from scipy.signal import stft\n",
    "import numpy as np\n",
    "\n",
    "# Define el path al archivo de audio en formato MP3\n",
    "audio_path = 'C:/Users/wdmoreno/OneDrive - Asesoftware S.A.S/Documentos/audio/Wine Bottles Clinking.mp3'\n",
    "\n",
    "# Carga el archivo de audio con pydub y lo convierte en una señal de audio de numpy\n",
    "audio = AudioSegment.from_file(audio_path, format='mp3')\n",
    "\n",
    "# Convertir audio en un arreglo numpy\n",
    "audio_array = np.array(audio.get_array_of_samples())\n",
    "\n",
    "print(audio_array.shape)\n",
    "\n",
    "# Definir el número de niveles\n",
    "num_levels = 256\n",
    "\n",
    "# Calcular el rango de valores de amplitud\n",
    "min_amp = np.min(audio_array)\n",
    "max_amp = np.max(audio_array)\n",
    "\n",
    "# Calcular el tamaño de intervalo\n",
    "interval_size = (max_amp - min_amp) / num_levels\n",
    "\n",
    "# Aplicar la cuantificación uniforme\n",
    "quantized_array = np.round((audio_array - min_amp) / interval_size) * interval_size + min_amp\n",
    "print(quantized_array)\n",
    "\n",
    "\n",
    "# Crear un objeto AudioSegment a partir del arreglo cuantificado\n",
    "quantized_audio = AudioSegment(\n",
    "    data=quantized_array.tobytes(),\n",
    "    sample_width=audio.sample_width,\n",
    "    frame_rate=audio.frame_rate,\n",
    "    channels=audio.channels\n",
    ")\n",
    "\n",
    "# Escribir el audio cuantificado en un archivo\n",
    "quantized_audio.export(\"audio_cuantificado.mp3\", format=\"mp3\")\n"
   ]
  }
 ],
 "metadata": {
  "kernelspec": {
   "display_name": "proba",
   "language": "python",
   "name": "python3"
  },
  "language_info": {
   "codemirror_mode": {
    "name": "ipython",
    "version": 3
   },
   "file_extension": ".py",
   "mimetype": "text/x-python",
   "name": "python",
   "nbconvert_exporter": "python",
   "pygments_lexer": "ipython3",
   "version": "3.9.16"
  },
  "orig_nbformat": 4,
  "vscode": {
   "interpreter": {
    "hash": "2dff9fdaf7b94c5adc137ae9efacb6eb17db3d464d727aaf2eb000ed4ad138c2"
   }
  }
 },
 "nbformat": 4,
 "nbformat_minor": 2
}
