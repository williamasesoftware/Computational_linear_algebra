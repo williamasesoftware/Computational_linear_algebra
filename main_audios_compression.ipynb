{
 "cells": [
  {
   "attachments": {},
   "cell_type": "markdown",
   "metadata": {},
   "source": [
    "### with library"
   ]
  },
  {
   "cell_type": "code",
   "execution_count": 23,
   "metadata": {},
   "outputs": [
    {
     "data": {
      "text/plain": [
       "<_io.BufferedRandom name='output_audio.mp3'>"
      ]
     },
     "execution_count": 23,
     "metadata": {},
     "output_type": "execute_result"
    }
   ],
   "source": [
    "from pydub import AudioSegment\n",
    "\n",
    "def compress_audio(input_file, output_file, bitrate):\n",
    "    # Load audio\n",
    "    audio = AudioSegment.from_file(input_file, format=\"mp3\")\n",
    "    # Compress audio using the given bitrate\n",
    "    compressed_audio = audio.export(output_file, format=\"mp3\", bitrate=bitrate)\n",
    "    return compressed_audio\n",
    "\n",
    "compress_audio('Wine Bottles Clinking.mp3', \"output_audio.mp3\", bitrate=\"10k\")\n"
   ]
  },
  {
   "cell_type": "code",
   "execution_count": 30,
   "metadata": {},
   "outputs": [],
   "source": [
    "from pydub import AudioSegment\n",
    "import numpy as np\n",
    "\n",
    "def compress_audio(input_file, output_file, tolerance):\n",
    "    # Load audio\n",
    "    audio = AudioSegment.from_file(input_file, format=\"mp3\")\n",
    "    # Convert audio to numpy array\n",
    "    samples = np.array(audio.get_array_of_samples())\n",
    "    # Transpose array to have samples in rows and channels in columns\n",
    "    samples = samples.T\n",
    "    # Compress each channel using SVD\n",
    "    compressed_samples = np.zeros_like(samples)\n",
    "    for i in range(2):\n",
    "        u, s, v = np.linalg.svd(np.atleast_2d(samples[i]).T, full_matrices=False)\n",
    "        s = np.diag(s)\n",
    "        subs = int(tolerance*np.shape(s)[0])\n",
    "        u = u[:,:-subs]\n",
    "        s = s[:-subs,:-subs]\n",
    "        v = v[:-subs,:]\n",
    "        compressed_samples[i] = (u @ s @ v).flatten()\n",
    "    # Transpose array back to have channels in rows and samples in columns\n",
    "    compressed_samples = compressed_samples.T\n",
    "    # Export the compressed audio to a file\n",
    "    compressed_audio = AudioSegment(\n",
    "        compressed_samples.tobytes(),\n",
    "        frame_rate=audio.frame_rate,\n",
    "        sample_width=audio.sample_width,\n",
    "        channels=audio.channels\n",
    "    )\n",
    "    compressed_audio.export(output_file, format=\"mp3\")\n",
    "\n",
    "# Example usage:\n",
    "compress_audio('Wine Bottles Clinking.mp3', \"output_audio_SVD.mp3\", tolerance=0.1)\n",
    "\n"
   ]
  }
 ],
 "metadata": {
  "kernelspec": {
   "display_name": "proba",
   "language": "python",
   "name": "python3"
  },
  "language_info": {
   "codemirror_mode": {
    "name": "ipython",
    "version": 3
   },
   "file_extension": ".py",
   "mimetype": "text/x-python",
   "name": "python",
   "nbconvert_exporter": "python",
   "pygments_lexer": "ipython3",
   "version": "3.9.16"
  },
  "orig_nbformat": 4,
  "vscode": {
   "interpreter": {
    "hash": "2dff9fdaf7b94c5adc137ae9efacb6eb17db3d464d727aaf2eb000ed4ad138c2"
   }
  }
 },
 "nbformat": 4,
 "nbformat_minor": 2
}
