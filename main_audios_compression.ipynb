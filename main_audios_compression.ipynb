{
 "cells": [
  {
   "cell_type": "code",
   "execution_count": 17,
   "metadata": {},
   "outputs": [
    {
     "data": {
      "text/plain": [
       "<_io.BufferedRandom name='espectrograma_comprimido.mp3'>"
      ]
     },
     "execution_count": 17,
     "metadata": {},
     "output_type": "execute_result"
    }
   ],
   "source": [
    "from pydub import AudioSegment\n",
    "from scipy.io import wavfile\n",
    "from scipy.signal import stft\n",
    "import numpy as np\n",
    "\n",
    "# Define el path al archivo de audio en formato MP3\n",
    "audio_path = 'C:/Users/wdmoreno/OneDrive - Asesoftware S.A.S/Documentos/audio/Wine Bottles Clinking.mp3'\n",
    "\n",
    "# Carga el archivo de audio con pydub y lo convierte en una señal de audio de numpy\n",
    "audio = AudioSegment.from_file(audio_path, format='mp3')\n",
    "samples = np.array(audio.get_array_of_samples())\n",
    "sr = audio.frame_rate\n",
    "\n",
    "# Aumenta la frecuencia de muestreo al doble de la frecuencia original\n",
    "audio = audio.set_frame_rate(sr)\n",
    "samples = np.array(audio.get_array_of_samples())\n",
    "sr = audio.frame_rate\n",
    "\n",
    "# Calcula el espectrograma de la señal de audio utilizando la transformada de Fourier de tiempo corto (STFT) de scipy\n",
    "f, t, spec = stft(samples, sr)\n",
    "\n",
    "# Comprime el espectrograma utilizando compresión logarítmica suave\n",
    "compressed_spec = 10 * np.log10(1 + np.abs(spec))\n",
    "\n",
    "# Guarda el espectrograma comprimido en un archivo de audio en formato MP3\n",
    "compressed_audio = AudioSegment(\n",
    "    compressed_spec.astype(np.int16).tobytes(),\n",
    "    frame_rate=sr,\n",
    "    sample_width=2,\n",
    "    channels=1\n",
    ")\n",
    "compressed_audio.export('espectrograma_comprimido.mp3', format='mp3')\n"
   ]
  }
 ],
 "metadata": {
  "kernelspec": {
   "display_name": "proba",
   "language": "python",
   "name": "python3"
  },
  "language_info": {
   "codemirror_mode": {
    "name": "ipython",
    "version": 3
   },
   "file_extension": ".py",
   "mimetype": "text/x-python",
   "name": "python",
   "nbconvert_exporter": "python",
   "pygments_lexer": "ipython3",
   "version": "3.9.16"
  },
  "orig_nbformat": 4,
  "vscode": {
   "interpreter": {
    "hash": "2dff9fdaf7b94c5adc137ae9efacb6eb17db3d464d727aaf2eb000ed4ad138c2"
   }
  }
 },
 "nbformat": 4,
 "nbformat_minor": 2
}
