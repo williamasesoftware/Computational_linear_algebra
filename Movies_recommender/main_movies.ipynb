{
 "cells": [
  {
   "cell_type": "code",
   "execution_count": 7,
   "metadata": {},
   "outputs": [
    {
     "name": "stdout",
     "output_type": "stream",
     "text": [
      "Claves disponibles en el archivo de títulos: ['titles']\n",
      "Claves disponibles en el archivo de recomendaciones de películas: ['format', 'shape', 'data', 'row', 'col']\n",
      "Forma del array de títulos: (3706,)\n",
      "Tipo de datos del array de títulos: <U75\n",
      "Tamaño total del array de títulos: 3706\n",
      "Forma del array de recomendaciones de películas: (1000209,)\n",
      "Tipo de datos del array de recomendaciones de películas: int8\n",
      "Tamaño total del array de recomendaciones de películas: 1000209\n",
      "Formato del array de recomendaciones de películas: coo\n",
      "Forma del array de recomendaciones de películas: [6040 3706]\n",
      "Forma del array de índices de fila: (1000209,)\n",
      "Tipo de datos del array de índices de fila: int32\n",
      "Tamaño total del array de índices de fila: 1000209\n",
      "Forma del array de índices de columna: (1000209,)\n",
      "Tipo de datos del array de índices de columna: int32\n",
      "Tamaño total del array de índices de columna: 1000209\n"
     ]
    }
   ],
   "source": [
    "import numpy as np\n",
    "\n",
    "# Carga el archivo .npz\n",
    "archive_title_npz = np.load('movie_titles.npz')\n",
    "archive_movie_npz= np.load('movie_recommend.npz')\n",
    "\n",
    "# Claves disponibles en el archivo de títulos\n",
    "print(\"Claves disponibles en el archivo de títulos:\", archive_title_npz.files)\n",
    "\n",
    "# claves disponibles en el archivo de recomendaciones de películas\n",
    "print(\"Claves disponibles en el archivo de recomendaciones de películas:\", archive_movie_npz.files)\n",
    "\n",
    "\n",
    "# Obtiene el array de títulos\n",
    "title_array = archive_title_npz['titles']\n",
    "print(\"Forma del array de títulos:\", title_array.shape)\n",
    "print(\"Tipo de datos del array de títulos:\", title_array.dtype)\n",
    "print(\"Tamaño total del array de títulos:\", title_array.size)\n",
    "\n",
    "# Obtiene el array de recomendaciones de películas\n",
    "movie_array = archive_movie_npz['data']\n",
    "print(\"Forma del array de recomendaciones de películas:\", movie_array.shape)\n",
    "print(\"Tipo de datos del array de recomendaciones de películas:\", movie_array.dtype)\n",
    "print(\"Tamaño total del array de recomendaciones de películas:\", movie_array.size)\n",
    "\n",
    "# Obtiene el formato, la forma y la información de los índices\n",
    "format_array = archive_movie_npz['format']\n",
    "print(\"Formato del array de recomendaciones de películas:\", format_array)\n",
    "\n",
    "shape_array = archive_movie_npz['shape']\n",
    "print(\"Forma del array de recomendaciones de películas:\", shape_array)\n",
    "\n",
    "row_array = archive_movie_npz['row']\n",
    "print(\"Forma del array de índices de fila:\", row_array.shape)\n",
    "print(\"Tipo de datos del array de índices de fila:\", row_array.dtype)\n",
    "print(\"Tamaño total del array de índices de fila:\", row_array.size)\n",
    "\n",
    "col_array = archive_movie_npz['col']\n",
    "print(\"Forma del array de índices de columna:\", col_array.shape)\n",
    "print(\"Tipo de datos del array de índices de columna:\", col_array.dtype)\n",
    "print(\"Tamaño total del array de índices de columna:\", col_array.size)\n",
    "\n"
   ]
  },
  {
   "cell_type": "code",
   "execution_count": 11,
   "metadata": {},
   "outputs": [
    {
     "name": "stdout",
     "output_type": "stream",
     "text": [
      "[array(['Toy Story (1995)', 'Hunchback of Notre Dame, The (1996)',\n",
      "       'Star Wars: Episode IV - A New Hope (1977)', 'Titanic (1997)',\n",
      "       'Christmas Story, A (1983)'], dtype='<U75'), array(['To Kill a Mockingbird (1962)', 'Antz (1998)',\n",
      "       \"Ferris Bueller's Day Off (1986)\", 'Ben-Hur (1959)',\n",
      "       'Toy Story (1995)'], dtype='<U75'), array(['Snow White and the Seven Dwarfs (1937)', 'Apollo 13 (1995)',\n",
      "       'Saving Private Ryan (1998)', 'Aladdin (1992)',\n",
      "       'Run Lola Run (Lola rennt) (1998)'], dtype='<U75')]\n"
     ]
    }
   ],
   "source": [
    "import numpy as np\n",
    "from scipy.sparse import coo_matrix\n",
    "from scipy.sparse.linalg import svds\n",
    "\n",
    "# Cargar los datos de los archivos .npz\n",
    "archive_title_npz = np.load('movie_titles.npz')\n",
    "archive_movie_npz = np.load('movie_recommend.npz')\n",
    "\n",
    "# Obtener la matriz de recomendaciones de películas\n",
    "row = archive_movie_npz['row']\n",
    "col = archive_movie_npz['col']\n",
    "data = archive_movie_npz['data']\n",
    "shape = archive_movie_npz['shape']\n",
    "ratings_matrix = coo_matrix((data, (row, col)), shape=shape).astype(float)\n",
    "\n",
    "# Aplicar la descomposición de valores singulares\n",
    "U, sigma, Vt = svds(ratings_matrix, k=50)\n",
    "\n",
    "# Construir la matriz truncada\n",
    "sigma = np.diag(sigma)\n",
    "ratings_truncated = np.dot(np.dot(U, sigma), Vt)\n",
    "\n",
    "# Obtener la lista de títulos de películas\n",
    "titles = archive_title_npz['titles']\n",
    "\n",
    "def recomendar_peliculas(user_ratings, num_recomendaciones=5):\n",
    "    # Calcular las puntuaciones de las películas no vistas\n",
    "    scores = np.dot(ratings_truncated[user_ratings], Vt.T)\n",
    "    # Obtener las posiciones de las películas ordenadas por puntuación\n",
    "    ranked_movies = np.argsort(-scores, axis=1)\n",
    "    # Obtener las mejores num_recomendaciones películas para cada usuario\n",
    "    recommendations = [titles[ranked_movies[i, :num_recomendaciones]] for i in range(len(user_ratings))]\n",
    "    return recommendations\n",
    "\n",
    "\n",
    "user_ratings = [0, 10, 20]\n",
    "recomendaciones = recomendar_peliculas(user_ratings)\n",
    "print(recomendaciones)\n",
    "\n"
   ]
  }
 ],
 "metadata": {
  "kernelspec": {
   "display_name": "proba",
   "language": "python",
   "name": "python3"
  },
  "language_info": {
   "codemirror_mode": {
    "name": "ipython",
    "version": 3
   },
   "file_extension": ".py",
   "mimetype": "text/x-python",
   "name": "python",
   "nbconvert_exporter": "python",
   "pygments_lexer": "ipython3",
   "version": "3.9.16"
  },
  "orig_nbformat": 4,
  "vscode": {
   "interpreter": {
    "hash": "2dff9fdaf7b94c5adc137ae9efacb6eb17db3d464d727aaf2eb000ed4ad138c2"
   }
  }
 },
 "nbformat": 4,
 "nbformat_minor": 2
}
