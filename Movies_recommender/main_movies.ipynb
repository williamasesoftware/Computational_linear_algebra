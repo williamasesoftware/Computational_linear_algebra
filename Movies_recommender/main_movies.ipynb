{
 "cells": [
  {
   "cell_type": "code",
   "execution_count": 5,
   "metadata": {},
   "outputs": [
    {
     "name": "stdout",
     "output_type": "stream",
     "text": [
      "Claves disponibles en el archivo de títulos: ['titles']\n",
      "Claves disponibles en el archivo de recomendaciones de películas: ['format', 'shape', 'data', 'row', 'col']\n"
     ]
    }
   ],
   "source": [
    "import numpy as np\n",
    "\n",
    "# Carga el archivo .npz\n",
    "archive_title_npz = np.load('movie_titles.npz')\n",
    "archive_movie_npz= np.load('movie_recommend.npz')\n",
    "\n",
    "# Claves disponibles en el archivo de títulos\n",
    "print(\"Claves disponibles en el archivo de títulos:\", archive_title_npz.files)\n",
    "\n",
    "# claves disponibles en el archivo de recomendaciones de películas\n",
    "print(\"Claves disponibles en el archivo de recomendaciones de películas:\", archive_movie_npz.files)\n",
    "\n",
    "\n"
   ]
  }
 ],
 "metadata": {
  "kernelspec": {
   "display_name": "proba",
   "language": "python",
   "name": "python3"
  },
  "language_info": {
   "codemirror_mode": {
    "name": "ipython",
    "version": 3
   },
   "file_extension": ".py",
   "mimetype": "text/x-python",
   "name": "python",
   "nbconvert_exporter": "python",
   "pygments_lexer": "ipython3",
   "version": "3.9.16"
  },
  "orig_nbformat": 4,
  "vscode": {
   "interpreter": {
    "hash": "2dff9fdaf7b94c5adc137ae9efacb6eb17db3d464d727aaf2eb000ed4ad138c2"
   }
  }
 },
 "nbformat": 4,
 "nbformat_minor": 2
}
