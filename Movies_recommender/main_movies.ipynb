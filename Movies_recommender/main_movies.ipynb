{
 "cells": [
  {
   "cell_type": "code",
   "execution_count": 7,
   "metadata": {},
   "outputs": [
    {
     "name": "stdout",
     "output_type": "stream",
     "text": [
      "Claves disponibles en el archivo de títulos: ['titles']\n",
      "Claves disponibles en el archivo de recomendaciones de películas: ['format', 'shape', 'data', 'row', 'col']\n",
      "Forma del array de títulos: (3706,)\n",
      "Tipo de datos del array de títulos: <U75\n",
      "Tamaño total del array de títulos: 3706\n",
      "Forma del array de recomendaciones de películas: (1000209,)\n",
      "Tipo de datos del array de recomendaciones de películas: int8\n",
      "Tamaño total del array de recomendaciones de películas: 1000209\n",
      "Formato del array de recomendaciones de películas: coo\n",
      "Forma del array de recomendaciones de películas: [6040 3706]\n",
      "Forma del array de índices de fila: (1000209,)\n",
      "Tipo de datos del array de índices de fila: int32\n",
      "Tamaño total del array de índices de fila: 1000209\n",
      "Forma del array de índices de columna: (1000209,)\n",
      "Tipo de datos del array de índices de columna: int32\n",
      "Tamaño total del array de índices de columna: 1000209\n"
     ]
    }
   ],
   "source": [
    "import numpy as np\n",
    "\n",
    "# Load .npz file\n",
    "\n",
    "archive_title_npz = np.load('movie_titles.npz')\n",
    "archive_movie_npz= np.load('movie_recommend.npz')\n",
    "\n",
    "# title keys\n",
    "print(\"Claves disponibles en el archivo de títulos:\", archive_title_npz.files)\n",
    "\n",
    "# recommend keys\n",
    "print(\"Claves disponibles en el archivo de recomendaciones de películas:\", archive_movie_npz.files)\n",
    "\n",
    "\n",
    "# Get title array\n",
    "title_array = archive_title_npz['titles']\n",
    "print(\"Forma del array de títulos:\", title_array.shape)\n",
    "print(\"Tipo de datos del array de títulos:\", title_array.dtype)\n",
    "print(\"Tamaño total del array de títulos:\", title_array.size)\n",
    "\n",
    "# Get recommendation array\n",
    "movie_array = archive_movie_npz['data']\n",
    "print(\"Forma del array de recomendaciones de películas:\", movie_array.shape)\n",
    "print(\"Tipo de datos del array de recomendaciones de películas:\", movie_array.dtype)\n",
    "print(\"Tamaño total del array de recomendaciones de películas:\", movie_array.size)\n",
    "\n",
    "# Get info\n",
    "format_array = archive_movie_npz['format']\n",
    "print(\"Formato del array de recomendaciones de películas:\", format_array)\n",
    "\n",
    "shape_array = archive_movie_npz['shape']\n",
    "print(\"Forma del array de recomendaciones de películas:\", shape_array)\n",
    "\n",
    "row_array = archive_movie_npz['row']\n",
    "print(\"Forma del array de índices de fila:\", row_array.shape)\n",
    "print(\"Tipo de datos del array de índices de fila:\", row_array.dtype)\n",
    "print(\"Tamaño total del array de índices de fila:\", row_array.size)\n",
    "\n",
    "col_array = archive_movie_npz['col']\n",
    "print(\"Forma del array de índices de columna:\", col_array.shape)\n",
    "print(\"Tipo de datos del array de índices de columna:\", col_array.dtype)\n",
    "print(\"Tamaño total del array de índices de columna:\", col_array.size)\n",
    "\n"
   ]
  },
  {
   "cell_type": "code",
   "execution_count": null,
   "metadata": {},
   "outputs": [
    {
     "name": "stdout",
     "output_type": "stream",
     "text": [
      "[array(['Toy Story (1995)', 'Hunchback of Notre Dame, The (1996)',\n",
      "       'Star Wars: Episode IV - A New Hope (1977)', 'Cinderella (1950)',\n",
      "       'Titanic (1997)'], dtype='<U75'), array(['Star Wars: Episode IV - A New Hope (1977)', 'Hercules (1997)',\n",
      "       'Last Days of Disco, The (1998)', 'Dumbo (1941)',\n",
      "       'Mary Poppins (1964)'], dtype='<U75'), array(['Antz (1998)', 'Snow White and the Seven Dwarfs (1937)',\n",
      "       'Cinderella (1950)', 'Aladdin (1992)',\n",
      "       'Run Lola Run (Lola rennt) (1998)'], dtype='<U75')]\n"
     ]
    }
   ],
   "source": [
    "import numpy as np\n",
    "from scipy.sparse import coo_matrix\n",
    "from scipy.sparse.linalg import svds\n",
    "\n",
    "# Load data\n",
    "archive_title_npz = np.load('movie_titles.npz')\n",
    "archive_movie_npz = np.load('movie_recommend.npz')\n",
    "\n",
    "# Recommend matrix\n",
    "row = archive_movie_npz['row']\n",
    "col = archive_movie_npz['col']\n",
    "data = archive_movie_npz['data']\n",
    "shape = archive_movie_npz['shape']\n",
    "ratings_matrix = coo_matrix((data, (row, col)), shape=shape).astype(float)\n",
    "\n",
    "# SVD\n",
    "U, sigma, Vt = svds(ratings_matrix, k=50)\n",
    "\n",
    "# Truncate matrix\n",
    "sigma = np.diag(sigma)\n",
    "ratings_truncated = np.dot(np.dot(U, sigma), Vt)\n",
    "\n",
    "# Get title list\n",
    "titles = archive_title_npz['titles']\n",
    "\n",
    "def recomendar_peliculas(user_ratings, num_recomendaciones=5):\n",
    "\n",
    "    # Movies dont viewed\n",
    "    scores = np.dot(ratings_truncated[user_ratings], Vt.T)\n",
    "\n",
    "    # Movies position by punctuation\n",
    "    ranked_movies = np.argsort(-scores, axis=1)\n",
    "\n",
    "    # Get best recommendation for each user\n",
    "    recommendations = [titles[ranked_movies[i, :num_recomendaciones]] for i in range(len(user_ratings))]\n",
    "    return recommendations\n",
    "\n",
    "\n",
    "user_ratings = [0,1,20]\n",
    "recomendaciones = recomendar_peliculas(user_ratings)\n",
    "print(recomendaciones)\n",
    "\n"
   ]
  }
 ],
 "metadata": {
  "kernelspec": {
   "display_name": "proba",
   "language": "python",
   "name": "python3"
  },
  "language_info": {
   "codemirror_mode": {
    "name": "ipython",
    "version": 3
   },
   "file_extension": ".py",
   "mimetype": "text/x-python",
   "name": "python",
   "nbconvert_exporter": "python",
   "pygments_lexer": "ipython3",
   "version": "3.9.16"
  },
  "orig_nbformat": 4,
  "vscode": {
   "interpreter": {
    "hash": "2dff9fdaf7b94c5adc137ae9efacb6eb17db3d464d727aaf2eb000ed4ad138c2"
   }
  }
 },
 "nbformat": 4,
 "nbformat_minor": 2
}
